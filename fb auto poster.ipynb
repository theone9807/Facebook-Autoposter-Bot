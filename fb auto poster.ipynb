{
 "cells": [
  {
   "cell_type": "code",
   "execution_count": null,
   "metadata": {},
   "outputs": [],
   "source": [
    "from selenium import webdriver\n",
    "from selenium.webdriver.common.by import By\n",
    "from selenium.webdriver.support.ui import WebDriverWait\n",
    "from time import sleep\n",
    "import time\n",
    "\n",
    "# chrome_options = webdriver.ChromeOptions()\n",
    "# chrome_options.add_argument('--no-sandbox')\n",
    "# chrome_options.add_argument('--window-size=1420,1080')\n",
    "# chrome_options.add_argument('--headless')\n",
    "# chrome_options.add_argument('--disable-gpu')\n",
    "driver = webdriver.Chrome()\n",
    "# driver = webdriver.Chrome()"
   ]
  },
  {
   "cell_type": "code",
   "execution_count": null,
   "metadata": {},
   "outputs": [],
   "source": [
    "driver.get('https://www.facebook.com')\n",
    "emailelement = driver.find_element(By.XPATH, './/*[@id=\"email\"]')\n",
    "emailelement.send_keys('User Id')\n",
    "paselement = driver.find_element(By.XPATH, './/*[@id=\"pass\"]')\n",
    "paselement.send_keys('Password')\n",
    "\n",
    "loginelement = driver.find_element(By.XPATH, './/*[@id=\"loginbutton\"]')\n",
    "loginelement.click()\n",
    "\n",
    "#*****************************to post status on my page**************************************\n",
    "# sendmesage = driver.find_element(By.XPATH, './/*[@name =\"xhpc_message\"]')\n",
    "# time.sleep(5)  #wait til page loded\n",
    "# sendmesage.send_keys('https://youtu.be/7YraMc8j0-g')\n",
    "# time.sleep(10)\n",
    "\n",
    "#//*[@id=\"js_3x\"]/div[2]/div[3]/div[2]/div/div/button\n",
    "# buttons = driver.find_elements_by_tag_name('button')\n",
    "# time.sleep(5)\n",
    "\n",
    "# for button in buttons:\n",
    "#     if button.text == 'Share':\n",
    "#         button.click()\n",
    "\n",
    "# time.sleep(5)\n",
    "# driver.close()\n",
    "\n",
    "\n",
    "\n",
    "#*************************************to post on a group******************************************\n",
    "driver.get('https://www.facebook.com/groups/1617246471658579/')\n",
    "sendmesage = driver.find_element(By.XPATH, \"//*[@name='xhpc_message_text']\")\n",
    "time.sleep(10)  #wait til page loded\n",
    "sendmesage.send_keys('https://youtu.be/7YraMc8j0-g')\n",
    "#//*[@id=\"js_v1\"]/div[1]/div/div[1]/div[2]/div/div/div/div/div/div/div[2]/div/div/div/div\n",
    "time.sleep(10)\n",
    "for button in buttons:\n",
    "    if button.text == 'Post':\n",
    "        button.click()\n",
    "time.sleep(5)\n",
    "driver.quit()"
   ]
  },
  {
   "cell_type": "code",
   "execution_count": null,
   "metadata": {},
   "outputs": [],
   "source": []
  }
 ],
 "metadata": {
  "kernelspec": {
   "display_name": "Python 3",
   "language": "python",
   "name": "python3"
  },
  "language_info": {
   "codemirror_mode": {
    "name": "ipython",
    "version": 3
   },
   "file_extension": ".py",
   "mimetype": "text/x-python",
   "name": "python",
   "nbconvert_exporter": "python",
   "pygments_lexer": "ipython3",
   "version": "3.6.6"
  }
 },
 "nbformat": 4,
 "nbformat_minor": 2
}
